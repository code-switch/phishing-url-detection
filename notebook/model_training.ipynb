{
 "cells": [
  {
   "cell_type": "code",
   "execution_count": 1,
   "metadata": {},
   "outputs": [
    {
     "ename": "ModuleNotFoundError",
     "evalue": "No module named 'kiwisolver._cext'",
     "output_type": "error",
     "traceback": [
      "\u001b[1;31m---------------------------------------------------------------------------\u001b[0m",
      "\u001b[1;31mModuleNotFoundError\u001b[0m                       Traceback (most recent call last)",
      "\u001b[1;32mc:\\Users\\ABHISHEK SINGH\\Desktop\\Ineuron placement assistance\\Projects\\Phishing_url_detection\\notebook\\model_training.ipynb Cell 1\u001b[0m in \u001b[0;36m<cell line: 4>\u001b[1;34m()\u001b[0m\n\u001b[0;32m      <a href='vscode-notebook-cell:/c%3A/Users/ABHISHEK%20SINGH/Desktop/Ineuron%20placement%20assistance/Projects/Phishing_url_detection/notebook/model_training.ipynb#W0sZmlsZQ%3D%3D?line=1'>2</a>\u001b[0m \u001b[39mimport\u001b[39;00m \u001b[39mpandas\u001b[39;00m \u001b[39mas\u001b[39;00m \u001b[39mpd\u001b[39;00m\n\u001b[0;32m      <a href='vscode-notebook-cell:/c%3A/Users/ABHISHEK%20SINGH/Desktop/Ineuron%20placement%20assistance/Projects/Phishing_url_detection/notebook/model_training.ipynb#W0sZmlsZQ%3D%3D?line=2'>3</a>\u001b[0m \u001b[39mimport\u001b[39;00m \u001b[39mnumpy\u001b[39;00m \u001b[39mas\u001b[39;00m \u001b[39mnp\u001b[39;00m\n\u001b[1;32m----> <a href='vscode-notebook-cell:/c%3A/Users/ABHISHEK%20SINGH/Desktop/Ineuron%20placement%20assistance/Projects/Phishing_url_detection/notebook/model_training.ipynb#W0sZmlsZQ%3D%3D?line=3'>4</a>\u001b[0m \u001b[39mimport\u001b[39;00m \u001b[39mmatplotlib\u001b[39;00m\u001b[39m.\u001b[39;00m\u001b[39mpyplot\u001b[39;00m \u001b[39mas\u001b[39;00m \u001b[39mplt\u001b[39;00m\n\u001b[0;32m      <a href='vscode-notebook-cell:/c%3A/Users/ABHISHEK%20SINGH/Desktop/Ineuron%20placement%20assistance/Projects/Phishing_url_detection/notebook/model_training.ipynb#W0sZmlsZQ%3D%3D?line=4'>5</a>\u001b[0m \u001b[39mimport\u001b[39;00m \u001b[39mseaborn\u001b[39;00m \u001b[39mas\u001b[39;00m \u001b[39msns\u001b[39;00m\n\u001b[0;32m      <a href='vscode-notebook-cell:/c%3A/Users/ABHISHEK%20SINGH/Desktop/Ineuron%20placement%20assistance/Projects/Phishing_url_detection/notebook/model_training.ipynb#W0sZmlsZQ%3D%3D?line=5'>6</a>\u001b[0m \u001b[39mfrom\u001b[39;00m \u001b[39msklearn\u001b[39;00m\u001b[39m.\u001b[39;00m\u001b[39mmodel_selection\u001b[39;00m \u001b[39mimport\u001b[39;00m train_test_split\n",
      "File \u001b[1;32mc:\\Users\\ABHISHEK SINGH\\anaconda3\\lib\\site-packages\\matplotlib\\__init__.py:208\u001b[0m, in \u001b[0;36m<module>\u001b[1;34m\u001b[0m\n\u001b[0;32m    203\u001b[0m         \u001b[39mif\u001b[39;00m parse_version(module\u001b[39m.\u001b[39m__version__) \u001b[39m<\u001b[39m parse_version(minver):\n\u001b[0;32m    204\u001b[0m             \u001b[39mraise\u001b[39;00m \u001b[39mImportError\u001b[39;00m(\u001b[39mf\u001b[39m\u001b[39m\"\u001b[39m\u001b[39mMatplotlib requires \u001b[39m\u001b[39m{\u001b[39;00mmodname\u001b[39m}\u001b[39;00m\u001b[39m>=\u001b[39m\u001b[39m{\u001b[39;00mminver\u001b[39m}\u001b[39;00m\u001b[39m; \u001b[39m\u001b[39m\"\u001b[39m\n\u001b[0;32m    205\u001b[0m                               \u001b[39mf\u001b[39m\u001b[39m\"\u001b[39m\u001b[39myou have \u001b[39m\u001b[39m{\u001b[39;00mmodule\u001b[39m.\u001b[39m__version__\u001b[39m}\u001b[39;00m\u001b[39m\"\u001b[39m)\n\u001b[1;32m--> 208\u001b[0m _check_versions()\n\u001b[0;32m    211\u001b[0m \u001b[39m# The decorator ensures this always returns the same handler (and it is only\u001b[39;00m\n\u001b[0;32m    212\u001b[0m \u001b[39m# attached once).\u001b[39;00m\n\u001b[0;32m    213\u001b[0m \u001b[39m@functools\u001b[39m\u001b[39m.\u001b[39mlru_cache()\n\u001b[0;32m    214\u001b[0m \u001b[39mdef\u001b[39;00m \u001b[39m_ensure_handler\u001b[39m():\n",
      "File \u001b[1;32mc:\\Users\\ABHISHEK SINGH\\anaconda3\\lib\\site-packages\\matplotlib\\__init__.py:202\u001b[0m, in \u001b[0;36m_check_versions\u001b[1;34m()\u001b[0m\n\u001b[0;32m    193\u001b[0m \u001b[39mfrom\u001b[39;00m \u001b[39m.\u001b[39;00m \u001b[39mimport\u001b[39;00m ft2font\n\u001b[0;32m    195\u001b[0m \u001b[39mfor\u001b[39;00m modname, minver \u001b[39min\u001b[39;00m [\n\u001b[0;32m    196\u001b[0m         (\u001b[39m\"\u001b[39m\u001b[39mcycler\u001b[39m\u001b[39m\"\u001b[39m, \u001b[39m\"\u001b[39m\u001b[39m0.10\u001b[39m\u001b[39m\"\u001b[39m),\n\u001b[0;32m    197\u001b[0m         (\u001b[39m\"\u001b[39m\u001b[39mdateutil\u001b[39m\u001b[39m\"\u001b[39m, \u001b[39m\"\u001b[39m\u001b[39m2.7\u001b[39m\u001b[39m\"\u001b[39m),\n\u001b[1;32m   (...)\u001b[0m\n\u001b[0;32m    200\u001b[0m         (\u001b[39m\"\u001b[39m\u001b[39mpyparsing\u001b[39m\u001b[39m\"\u001b[39m, \u001b[39m\"\u001b[39m\u001b[39m2.2.1\u001b[39m\u001b[39m\"\u001b[39m),\n\u001b[0;32m    201\u001b[0m ]:\n\u001b[1;32m--> 202\u001b[0m     module \u001b[39m=\u001b[39m importlib\u001b[39m.\u001b[39;49mimport_module(modname)\n\u001b[0;32m    203\u001b[0m     \u001b[39mif\u001b[39;00m parse_version(module\u001b[39m.\u001b[39m__version__) \u001b[39m<\u001b[39m parse_version(minver):\n\u001b[0;32m    204\u001b[0m         \u001b[39mraise\u001b[39;00m \u001b[39mImportError\u001b[39;00m(\u001b[39mf\u001b[39m\u001b[39m\"\u001b[39m\u001b[39mMatplotlib requires \u001b[39m\u001b[39m{\u001b[39;00mmodname\u001b[39m}\u001b[39;00m\u001b[39m>=\u001b[39m\u001b[39m{\u001b[39;00mminver\u001b[39m}\u001b[39;00m\u001b[39m; \u001b[39m\u001b[39m\"\u001b[39m\n\u001b[0;32m    205\u001b[0m                           \u001b[39mf\u001b[39m\u001b[39m\"\u001b[39m\u001b[39myou have \u001b[39m\u001b[39m{\u001b[39;00mmodule\u001b[39m.\u001b[39m__version__\u001b[39m}\u001b[39;00m\u001b[39m\"\u001b[39m)\n",
      "File \u001b[1;32mc:\\Users\\ABHISHEK SINGH\\anaconda3\\lib\\importlib\\__init__.py:127\u001b[0m, in \u001b[0;36mimport_module\u001b[1;34m(name, package)\u001b[0m\n\u001b[0;32m    125\u001b[0m             \u001b[39mbreak\u001b[39;00m\n\u001b[0;32m    126\u001b[0m         level \u001b[39m+\u001b[39m\u001b[39m=\u001b[39m \u001b[39m1\u001b[39m\n\u001b[1;32m--> 127\u001b[0m \u001b[39mreturn\u001b[39;00m _bootstrap\u001b[39m.\u001b[39;49m_gcd_import(name[level:], package, level)\n",
      "File \u001b[1;32mc:\\Users\\ABHISHEK SINGH\\anaconda3\\lib\\site-packages\\kiwisolver\\__init__.py:8\u001b[0m, in \u001b[0;36m<module>\u001b[1;34m\u001b[0m\n\u001b[0;32m      1\u001b[0m \u001b[39m# --------------------------------------------------------------------------------------\u001b[39;00m\n\u001b[0;32m      2\u001b[0m \u001b[39m# Copyright (c) 2013-2022, Nucleic Development Team.\u001b[39;00m\n\u001b[0;32m      3\u001b[0m \u001b[39m#\u001b[39;00m\n\u001b[1;32m   (...)\u001b[0m\n\u001b[0;32m      6\u001b[0m \u001b[39m# The full license is in the file LICENSE, distributed with this software.\u001b[39;00m\n\u001b[0;32m      7\u001b[0m \u001b[39m# --------------------------------------------------------------------------------------\u001b[39;00m\n\u001b[1;32m----> 8\u001b[0m \u001b[39mfrom\u001b[39;00m \u001b[39m.\u001b[39;00m\u001b[39m_cext\u001b[39;00m \u001b[39mimport\u001b[39;00m (\n\u001b[0;32m      9\u001b[0m     BadRequiredStrength,\n\u001b[0;32m     10\u001b[0m     Constraint,\n\u001b[0;32m     11\u001b[0m     DuplicateConstraint,\n\u001b[0;32m     12\u001b[0m     DuplicateEditVariable,\n\u001b[0;32m     13\u001b[0m     Expression,\n\u001b[0;32m     14\u001b[0m     Solver,\n\u001b[0;32m     15\u001b[0m     Term,\n\u001b[0;32m     16\u001b[0m     UnknownConstraint,\n\u001b[0;32m     17\u001b[0m     UnknownEditVariable,\n\u001b[0;32m     18\u001b[0m     UnsatisfiableConstraint,\n\u001b[0;32m     19\u001b[0m     Variable,\n\u001b[0;32m     20\u001b[0m     __kiwi_version__,\n\u001b[0;32m     21\u001b[0m     __version__,\n\u001b[0;32m     22\u001b[0m     strength,\n\u001b[0;32m     23\u001b[0m )\n\u001b[0;32m     25\u001b[0m __all__ \u001b[39m=\u001b[39m [\n\u001b[0;32m     26\u001b[0m     \u001b[39m\"\u001b[39m\u001b[39mBadRequiredStrength\u001b[39m\u001b[39m\"\u001b[39m,\n\u001b[0;32m     27\u001b[0m     \u001b[39m\"\u001b[39m\u001b[39mDuplicateConstraint\u001b[39m\u001b[39m\"\u001b[39m,\n\u001b[1;32m   (...)\u001b[0m\n\u001b[0;32m     39\u001b[0m     \u001b[39m\"\u001b[39m\u001b[39m__kiwi_version__\u001b[39m\u001b[39m\"\u001b[39m,\n\u001b[0;32m     40\u001b[0m ]\n",
      "\u001b[1;31mModuleNotFoundError\u001b[0m: No module named 'kiwisolver._cext'"
     ]
    }
   ],
   "source": [
    "#importing libraries\n",
    "import pandas as pd\n",
    "import numpy as np\n",
    "import matplotlib.pyplot as plt\n",
    "import seaborn as sns\n",
    "from sklearn.model_selection import train_test_split\n",
    "\n"
   ]
  },
  {
   "cell_type": "code",
   "execution_count": 3,
   "metadata": {},
   "outputs": [
    {
     "ename": "NameError",
     "evalue": "name 'pd' is not defined",
     "output_type": "error",
     "traceback": [
      "\u001b[1;31m---------------------------------------------------------------------------\u001b[0m",
      "\u001b[1;31mNameError\u001b[0m                                 Traceback (most recent call last)",
      "\u001b[1;32mc:\\Users\\ABHISHEK SINGH\\Desktop\\Ineuron placement assistance\\Projects\\Phishing_url_detection\\notebook\\model_training.ipynb Cell 2\u001b[0m in \u001b[0;36m<cell line: 2>\u001b[1;34m()\u001b[0m\n\u001b[0;32m      <a href='vscode-notebook-cell:/c%3A/Users/ABHISHEK%20SINGH/Desktop/Ineuron%20placement%20assistance/Projects/Phishing_url_detection/notebook/model_training.ipynb#W3sZmlsZQ%3D%3D?line=0'>1</a>\u001b[0m \u001b[39m#importing data \u001b[39;00m\n\u001b[1;32m----> <a href='vscode-notebook-cell:/c%3A/Users/ABHISHEK%20SINGH/Desktop/Ineuron%20placement%20assistance/Projects/Phishing_url_detection/notebook/model_training.ipynb#W3sZmlsZQ%3D%3D?line=1'>2</a>\u001b[0m X \u001b[39m=\u001b[39m pd\u001b[39m.\u001b[39mread_csv(\u001b[39m'\u001b[39m\u001b[39mnotebook\u001b[39m\u001b[39m\\\\\u001b[39;00m\u001b[39mx_data.csv\u001b[39m\u001b[39m'\u001b[39m)\n",
      "\u001b[1;31mNameError\u001b[0m: name 'pd' is not defined"
     ]
    }
   ],
   "source": [
    "#importing data \n",
    "X = pd.read_csv('notebook\\\\x_data.csv')"
   ]
  },
  {
   "cell_type": "code",
   "execution_count": 1,
   "metadata": {},
   "outputs": [
    {
     "ename": "NameError",
     "evalue": "name 'train_test_split' is not defined",
     "output_type": "error",
     "traceback": [
      "\u001b[1;31m---------------------------------------------------------------------------\u001b[0m",
      "\u001b[1;31mNameError\u001b[0m                                 Traceback (most recent call last)",
      "\u001b[1;32mc:\\Users\\ABHISHEK SINGH\\Desktop\\Ineuron placement assistance\\Projects\\Phishing_url_detection\\notebook\\model_training.ipynb Cell 2\u001b[0m in \u001b[0;36m<cell line: 3>\u001b[1;34m()\u001b[0m\n\u001b[0;32m      <a href='vscode-notebook-cell:/c%3A/Users/ABHISHEK%20SINGH/Desktop/Ineuron%20placement%20assistance/Projects/Phishing_url_detection/notebook/model_training.ipynb#W2sZmlsZQ%3D%3D?line=0'>1</a>\u001b[0m \u001b[39m#splitting the data into train test & cv datasets\u001b[39;00m\n\u001b[1;32m----> <a href='vscode-notebook-cell:/c%3A/Users/ABHISHEK%20SINGH/Desktop/Ineuron%20placement%20assistance/Projects/Phishing_url_detection/notebook/model_training.ipynb#W2sZmlsZQ%3D%3D?line=2'>3</a>\u001b[0m X_train,X_test,y_train,y_test \u001b[39m=\u001b[39m train_test_split()\n",
      "\u001b[1;31mNameError\u001b[0m: name 'train_test_split' is not defined"
     ]
    }
   ],
   "source": [
    "#splitting the data into train test & cv datasets\n",
    "\n",
    "X_train,X_test,y_train,y_test = train_test_split()"
   ]
  }
 ],
 "metadata": {
  "kernelspec": {
   "display_name": "base",
   "language": "python",
   "name": "python3"
  },
  "language_info": {
   "codemirror_mode": {
    "name": "ipython",
    "version": 3
   },
   "file_extension": ".py",
   "mimetype": "text/x-python",
   "name": "python",
   "nbconvert_exporter": "python",
   "pygments_lexer": "ipython3",
   "version": "3.9.12"
  },
  "orig_nbformat": 4
 },
 "nbformat": 4,
 "nbformat_minor": 2
}
